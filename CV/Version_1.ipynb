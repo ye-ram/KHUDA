{
  "nbformat": 4,
  "nbformat_minor": 0,
  "metadata": {
    "colab": {
      "provenance": []
    },
    "kernelspec": {
      "name": "python3",
      "display_name": "Python 3"
    },
    "language_info": {
      "name": "python"
    }
  },
  "cells": [
    {
      "cell_type": "markdown",
      "source": [
        "# **Import Library**"
      ],
      "metadata": {
        "id": "ORmjcHlT-Qgm"
      }
    },
    {
      "cell_type": "code",
      "execution_count": null,
      "metadata": {
        "id": "ReeHrtxm-LYC"
      },
      "outputs": [],
      "source": [
        "import torch\n",
        "import torch.nn as nn\n",
        "import torch.nn.functional as F\n",
        "from torch.utils.data import DataLoader\n",
        "import torchvision\n",
        "import torchvision.transforms as transforms\n",
        "from torch.optim.lr_scheduler import ReduceLROnPlateau\n",
        "\n",
        "import time\n",
        "import random\n",
        "import copy"
      ]
    },
    {
      "cell_type": "markdown",
      "source": [
        "# **Define Model**"
      ],
      "metadata": {
        "id": "ajdGNW55-WUN"
      }
    },
    {
      "cell_type": "code",
      "source": [
        "\"\"\"# **1) Model define**\n",
        "### trans_VGG에서 사용할 함수인 conv_2 define\n",
        "\"\"\"\n",
        "\n",
        "def conv_2(in_dim, out_dim):\n",
        "    model = nn.Sequential(\n",
        "        nn.Conv2d(in_dim, out_dim, kernel_size = 3, padding = 1),\n",
        "        nn.ReLU(),# Model define\n",
        "        nn.Conv2d(out_dim, out_dim, kernel_size = 3, padding = 1),\n",
        "        nn.ReLU(),\n",
        "        nn.MaxPool2d(2,2)\n",
        "    )\n",
        "    return model\n",
        "\n",
        "def conv_3(in_dim, out_dim):\n",
        "    model = nn.Sequential(\n",
        "        nn.Conv2d(in_dim, out_dim, kernel_size = 3, padding = 1),\n",
        "        nn.ReLU(),# Model define\n",
        "        nn.Conv2d(out_dim, out_dim, kernel_size = 3, padding = 1),\n",
        "        nn.ReLU(),\n",
        "        nn.Conv2d(out_dim, out_dim, kernel_size = 3, padding = 1),\n",
        "        nn.ReLU(),\n",
        "        nn.Conv2d(out_dim, out_dim, kernel_size = 3, padding = 1),\n",
        "        nn.ReLU(),\n",
        "        nn.MaxPool2d(2,2)\n",
        "    )\n",
        "    return model"
      ],
      "metadata": {
        "id": "YnrVUVGl-ZGr"
      },
      "execution_count": null,
      "outputs": []
    },
    {
      "cell_type": "markdown",
      "source": [
        "conv_2함수: 2개의 합성곱 층과 MaxPooling 층이 포함된 모델이다. 활성화 함수는 ReLU이다. <br>\n",
        "conv_3함수: 4개의 합성곱 층과 MaxPooling 층이 포함된 모델이다. 활성화 함수는 ReLU이다. <br>\n",
        "두 합성곱 층 모두 3x3크기의 커널을 사용하고 padding은 1로 설정해 출력크기와 입력 크기가 동일하다. 모두 마지막에 2x2 MaxPooling 층이 있어 공간 차원을 절반으로 줄인다."
      ],
      "metadata": {
        "id": "LU_WKVmgl9-9"
      }
    },
    {
      "cell_type": "markdown",
      "source": [
        "# **Define trans_VGG class**"
      ],
      "metadata": {
        "id": "DtjKQ3Ss-eOM"
      }
    },
    {
      "cell_type": "code",
      "source": [
        "class trans_VGG(nn.Module):\n",
        "    def __init__(self, base_dim):\n",
        "        super(trans_VGG, self).__init__() # 부모 클래스인 nn.Module의 초기화 메서드를 호출\n",
        "        self.feature = nn.Sequential(\n",
        "            conv_2(3, base_dim),\n",
        "            conv_2(base_dim, base_dim*2),\n",
        "            conv_2(base_dim*2, base_dim*4),\n",
        "            conv_3(base_dim*4, base_dim*8),\n",
        "            conv_3(base_dim*8, base_dim*8)\n",
        "        )\n",
        "        self.fc_layer = nn.Sequential(\n",
        "            nn.Linear(base_dim*8*7*7, base_dim*4*7*7), # nn.Linear: 선형 변환 구현. 가중치화 편향을 학습한다.\n",
        "            nn.ReLU(True),\n",
        "            nn.Dropout(),\n",
        "            nn.Linear(base_dim*4*7*7, base_dim*2*7*7),\n",
        "            nn.ReLU(True),\n",
        "            nn.Dropout(),\n",
        "            nn.Linear(base_dim*2*7*7, base_dim*7*7)\n",
        "        )\n",
        "        for param in self.parameters(): # 모델의 모든 파라미터에 대해 기울기 계산 활성화\n",
        "            param.requires_grad = True\n",
        "\n",
        "    def forward(self, x):\n",
        "        x = self.feature(x) # 모델의 특징 추출\n",
        "        x = x.view(x.size(0), -1) # 특징 맵을 1차원으로 변환. x.size(0)은 배치 크기를 의미한다.\n",
        "        x = self.fc_layer(x) # 최종 출력 값을 생성하는 부분\n",
        "        return x"
      ],
      "metadata": {
        "id": "3Ty-Lx7--jv0"
      },
      "execution_count": null,
      "outputs": []
    },
    {
      "cell_type": "markdown",
      "source": [
        "- self.feature는 conv_2, conv_3 함수로 여러 합성곱 블록을 쌓아 특징을 추츨하는 과정이다.<br>\n",
        "- self.fc_layer는 특징 맵을 **1차원으로 변환**하는 과정이다. fully connected layer는 입력 데이터의 형태가 1차원 벡터일 때만 작동하기 때문에, 특징 맵을 1차원으로 변환시켜야한다. <br>\n",
        "각 층 사이에 ReLU와 Dropout이 적용된다.(Dropout은 딥러닝 모델에서 과적합을 방지하기 위해 사용되는 정규화 기법 중 하나이다.)\n",
        "- forward는 입력을 받아서 특징을 추출하고, 1차원으로 변환한 후, 완전 연결층(fc_layer)를 통과시켜 최종 출력을 생성한다."
      ],
      "metadata": {
        "id": "2i_ZyrWWpXry"
      }
    },
    {
      "cell_type": "markdown",
      "source": [
        "Dropout\n",
        "1. 무작위 뉴런 비활성화: 훈련 과정에서 각 뉴런을 무작위로 선택해 비활성화한다. 비활성화란 출력이 0이 되도록 하는 것을 말한다. 일반적으로 특정 비율의 뉴런이 비활성화된다.<br>\n",
        "2. Dropout은 훈련 단계에서만 적용되고, 테스트 단계에서는 모든 뉴런이 활성화되는 특징을 가진다."
      ],
      "metadata": {
        "id": "koJC41FBtSvX"
      }
    },
    {
      "cell_type": "markdown",
      "source": [
        "문제점 및 개선사항\n",
        "1. Dropout 비율을 설정하지 않았다.\n",
        "2. nn.Linear(base_dim*8*7*7, ...)에서 base_dim*8*7*7은 고정된 입력 크기를 가진다. 입력 이미지의 크기가 다르면 값이 달라질 수 있는 문제가 생긴다."
      ],
      "metadata": {
        "id": "5cFS3EI0xChu"
      }
    },
    {
      "cell_type": "markdown",
      "source": [
        "- Hyper_paremeter : Learning rate, momentum, weight decay 등은 논문의 Hyper peremeter value로 초기화\n"
      ],
      "metadata": {
        "id": "0JlwvIx9-oB3"
      }
    },
    {
      "cell_type": "code",
      "source": [
        "import torch.nn.init as init # PyTorch의 초기화 모듈. 모델의 가중치를 초기화하는 데 사용된다.\n",
        "\n",
        "seed = time.time()\n",
        "\n",
        "def custom_init_weights(m):\n",
        "  if seed is not None:\n",
        "    torch.manual_seed(seed)\n",
        "  if isinstance(m, torch.nn.Linear) and m.weight is not None:\n",
        "    init.normal_(m.weight, mean=1, std=0.01)\n",
        "    if m.bias is not None:\n",
        "      init.constant_(m.bias, 0)\n",
        "\n",
        "model = trans_VGG(base_dim=64) # 모델 생성. base_dim은 모델의 차원 설정\n",
        "\n",
        "loss = nn.BCELoss() # 이진 분류를 위한 손실 함수\n",
        "optimizer =torch.optim.SGD(model.parameters(), lr = 0.01,momentum = 0.9, weight_decay = 0.0005) # 확률적 경사 하강법(SGD) 옵티마이저를 설정\n",
        "scheduler = ReduceLROnPlateau(optimizer, mode='max', patience=10, factor=0.1, verbose=True)\n",
        "\n",
        "transform = transforms.Compose(\n",
        "    [transforms.ToTensor(), transforms.RandomCrop(224)])\n",
        "\n",
        "from google.colab import drive\n",
        "drive.mount('/content/drive')"
      ],
      "metadata": {
        "id": "_79OsMOG-olp"
      },
      "execution_count": null,
      "outputs": []
    },
    {
      "cell_type": "markdown",
      "source": [
        "- custom_init_weights는 가중치 초기화 함수이다. 주어진 모듈이 Linear 층일 경우, 가중치를 정규 분포로 초기화하고, 편향을 0으로 초기화하는 함수이다. <br>\n",
        "가중치를 초기화하는 이유는 정규 분포로 초기화하여 뉴런이 균형 있게 작동하고 학습이 원활하게 진행될 수 있게 하기 위해서이다.\n",
        "편향을 0으로 초기화하는 이유는 초기 상태에서 뉴런의 활성화에 영향을 주지 않게 하기 위해서이다. 편향은 이후 학습에서 자연스럽게 조정된다.\n",
        "- scheduler는 성능이 개선되지 않을 때 학습률을 감소시킨다. patience는 개선이 없는 에폭 수를 의미한다.  "
      ],
      "metadata": {
        "id": "AO5F-en_yMb-"
      }
    },
    {
      "cell_type": "markdown",
      "source": [
        "# **Import Dataset**"
      ],
      "metadata": {
        "id": "iDUjpjGy-wJn"
      }
    },
    {
      "cell_type": "code",
      "source": [
        "import os\n",
        "from PIL import Image\n",
        "import numpy as np\n",
        "from torch.utils.data import Dataset\n",
        "\n",
        "# Project 3 폴더 경로\n",
        "project_folder = '/content/drive/MyDrive/Project3'\n",
        "\n",
        "image = []\n",
        "label = []\n",
        "\n",
        "# Project 3 폴더 내부의 세부 폴더를 확인하고 이미지와 라벨 데이터 생성\n",
        "for subdir, _, files in os.walk(project_folder):\n",
        "    for file in files:\n",
        "        # 이미지 파일인지 확인\n",
        "        if file.endswith(('png', 'jpg', 'jpeg')):\n",
        "            image_path = os.path.join(subdir, file)\n",
        "            image.append(image_path)\n",
        "\n",
        "            # 이미지가 속한 세부 폴더의 이름을 라벨로 사용\n",
        "            label_name = os.path.basename(subdir)\n",
        "            label.append(label_name)\n",
        "\n",
        "indices = np.random.permutation(len(image))\n",
        "IMAGE = [image[i] for i in indices]\n",
        "LABEL = [label[i] for i in indices]\n",
        "\n",
        "class CustomDataset(Dataset):\n",
        "    def __init__(self, image_paths, labels, transform=None):\n",
        "        self.image_paths = image_paths\n",
        "        self.labels = labels\n",
        "        self.transform = transform\n",
        "\n",
        "    def __len__(self):\n",
        "        return len(self.image_paths)\n",
        "\n",
        "    def __getitem__(self, idx):\n",
        "        image_path = self.image_paths[idx]\n",
        "        label = self.labels[idx]\n",
        "        image = Image.open(image_path).convert('RGB')\n",
        "        image = transforms.RandomCrop(224)(image)\n",
        "        image = transforms.ToTensor()(image)\n",
        "\n",
        "        return image, label\n",
        "\n",
        "BATCH_SIZE = 1\n",
        "\n",
        "TRAINING_image = []\n",
        "TRAINING_label = []\n",
        "TEST_image = []\n",
        "TEST_label = []\n",
        "\n",
        "for i in range(0,80):\n",
        "  for j in range(0,20):\n",
        "    for k in range(0,2):\n",
        "      TRAINING_image.append(image[200*j+i+k])\n",
        "      TRAINING_label.append(label[200*j+i+k])\n",
        "\n",
        "for i in range(80,100):\n",
        "  for j in range(0,20):\n",
        "    for k in range(0,2):\n",
        "      TEST_image.append(image[200*j+i+k])\n",
        "      TEST_label.append(label[200*j+i+k])\n",
        "\n",
        "train_dataset = CustomDataset(TRAINING_image, TRAINING_label, transform = transform)\n",
        "train_loader = DataLoader(train_dataset, batch_size = BATCH_SIZE,num_workers=2)\n",
        "test_dataset = CustomDataset(TEST_image, TEST_label, transform = transform)\n",
        "test_loader = DataLoader(test_dataset, batch_size = BATCH_SIZE,num_workers=2)"
      ],
      "metadata": {
        "id": "l7NWSJZD-yoP"
      },
      "execution_count": null,
      "outputs": []
    },
    {
      "cell_type": "markdown",
      "source": [
        "# **Training**"
      ],
      "metadata": {
        "id": "61PMWGKo-2dQ"
      }
    },
    {
      "cell_type": "code",
      "source": [
        "\"\"\"# **3) TRAINING**\"\"\"\n",
        "\n",
        "EPOCH = 80 # 훈련할 에폭 수 설정\n",
        "\n",
        "DEVICE = torch.device('cuda' if torch.cuda.is_available() else 'cpu') # 사용할 디바이스 결정\n",
        "model = model.to(DEVICE) # 모델을 해당 디바이스로 이동\n",
        "\n",
        "start_time = time.time()\n",
        "train_acc_lst, test_acc_lst = [],[]\n",
        "\n",
        "for epoch in range(EPOCH):\n",
        "  model.train()\n",
        "  correct_pred, num_examples = 0, 3200\n",
        "  for i, (_image1, _label1) in enumerate(train_loader):\n",
        "    image1 = _image1.to(DEVICE)\n",
        "    label1 = _label1[0]\n",
        "    vector1_tensor = model(image1)\n",
        "\n",
        "    if (i == 0): #Exception Case\n",
        "      image2 = image1\n",
        "      label2 = label1\n",
        "      vector2_tensor = vector1_tensor\n",
        "\n",
        "    similarity =  F.cosine_similarity(vector1_tensor, vector2_tensor, dim= -1) # 두 벡터 간 코사인 유사도 계산\n",
        "    scaled_similarity = torch.sigmoid(similarity) # 시그모이드 함수를 통해 값 스케일링\n",
        "\n",
        "    if label1 == label2 and scaled_similarity.item() > 0.5: # 예측의 정확성을 평가하는 조건문\n",
        "        correct_pred += 1\n",
        "    elif label1 != label2 and scaled_similarity.item() < 0.5:\n",
        "        correct_pred += 1\n",
        "\n",
        "    if label1 == label2:\n",
        "      target_vector = [1]\n",
        "    else :\n",
        "      target_vector = [0]\n",
        "\n",
        "    target_tensor = torch.tensor(target_vector).float()\n",
        "    target_tensor = target_tensor.to(DEVICE)\n",
        "    optimizer.zero_grad()\n",
        "    cost = loss(scaled_similarity, target_tensor)\n",
        "    cost.backward()\n",
        "    optimizer.step()\n",
        "\n",
        "    if not i % 40:\n",
        "      print (f'Epoch: {epoch:03d}/{EPOCH:03d} | '\n",
        "            f'Batch {i:03d}/{len(train_loader):03d} |'\n",
        "             f' Cost: {cost:.4f}')\n",
        "\n",
        "    #연산량 감소를 위한 텐서 재활용\n",
        "    image2 = image1.clone()\n",
        "    label2 = label1\n",
        "    vector2_tensor = vector1_tensor.detach().clone()\n",
        "\n",
        "elapsed = (time.time() - start_time)/60\n",
        "print(f'Total Training Time: {elapsed:.2f} min')"
      ],
      "metadata": {
        "id": "rBiV7BHk-4MH"
      },
      "execution_count": null,
      "outputs": []
    },
    {
      "cell_type": "markdown",
      "source": [],
      "metadata": {
        "id": "z3OUzZzk03FK"
      }
    }
  ]
}